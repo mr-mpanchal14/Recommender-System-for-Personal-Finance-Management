{
 "cells": [
  {
   "cell_type": "code",
   "execution_count": 1,
   "id": "67632661-591d-4480-a9bf-af9f60b17a25",
   "metadata": {
    "tags": []
   },
   "outputs": [],
   "source": [
    "import pickle"
   ]
  },
  {
   "cell_type": "code",
   "execution_count": 2,
   "id": "60402c7d-ea40-456d-98a7-fe7f28784b81",
   "metadata": {
    "tags": []
   },
   "outputs": [],
   "source": [
    "with open('recommender_system.pkl', 'rb') as file:\n",
    "    model = pickle.load(file)"
   ]
  },
  {
   "cell_type": "code",
   "execution_count": 8,
   "id": "aa5eaad5-c2f5-4391-a0fe-8570547ce159",
   "metadata": {
    "tags": []
   },
   "outputs": [
    {
     "name": "stdout",
     "output_type": "stream",
     "text": [
      "[[6151.  564.  219.  170.  118.  261.   91.]]\n"
     ]
    },
    {
     "data": {
      "text/plain": [
       "'\\nAge : integer\\nGender_code : 1 = Male, 0 = Female\\nEducation_level : 0 = Diploma, 1 = Graduate, 2 = PostGraduate, 3 = UnderGraduate\\nMonthly_income : integer\\nTution_fees : integer\\n'"
      ]
     },
     "execution_count": 8,
     "metadata": {},
     "output_type": "execute_result"
    }
   ],
   "source": [
    "new_predictions = model.predict([[23,    1,    1,  860, 4728]]) #([['Age', 'Gender_Code', 'Education_Level', 'Monthly_Income', 'Tuition Fees']])\n",
    "print(new_predictions)\n",
    "\n",
    "'''\n",
    "Age : integer\n",
    "Gender_code : 1 = Male, 0 = Female\n",
    "Education_level : 0 = Diploma, 1 = Graduate, 2 = PostGraduate, 3 = UnderGraduate\n",
    "Monthly_income : integer\n",
    "Tution_fees : integer\n",
    "'''"
   ]
  },
  {
   "cell_type": "code",
   "execution_count": null,
   "id": "4f45ad00-6de0-4e05-ad31-441788581e97",
   "metadata": {},
   "outputs": [],
   "source": []
  }
 ],
 "metadata": {
  "kernelspec": {
   "display_name": "Python 3 (ipykernel)",
   "language": "python",
   "name": "python3"
  },
  "language_info": {
   "codemirror_mode": {
    "name": "ipython",
    "version": 3
   },
   "file_extension": ".py",
   "mimetype": "text/x-python",
   "name": "python",
   "nbconvert_exporter": "python",
   "pygments_lexer": "ipython3",
   "version": "3.11.5"
  }
 },
 "nbformat": 4,
 "nbformat_minor": 5
}
